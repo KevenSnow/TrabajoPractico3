{
 "cells": [
  {
   "cell_type": "markdown",
   "id": "765795af-0b4b-469e-af30-51342a0e4e55",
   "metadata": {},
   "source": [
    "# Trabajo Práctico 3 FMPS ##"
   ]
  },
  {
   "cell_type": "markdown",
   "id": "f5c4767e-a85a-4864-94eb-896c662cdb2b",
   "metadata": {},
   "source": [
    "Primeramente exportamos las librerías a utilizar"
   ]
  },
  {
   "cell_type": "code",
   "execution_count": null,
   "id": "17c2a9cb-42df-45c0-a739-7523ca70ac3e",
   "metadata": {},
   "outputs": [],
   "source": [
    "import numpy as np\n",
    "import pylab as pl\n",
    "import scipy as sp\n",
    "import scipy.signal\n",
    "import scipy.io.wavfile\n",
    "np.set_printoptions(precision=2,supress=True) #for compact outpots"
   ]
  },
  {
   "cell_type": "markdown",
   "id": "38c9e0cc-ca85-4c1c-9345-11496a431929",
   "metadata": {},
   "source": [
    "#  Ejercicio 1 Convolución Circular"
   ]
  },
  {
   "cell_type": "markdown",
   "id": "b7115ac2-f958-4951-abb4-e9996d6b9a90",
   "metadata": {},
   "source": [
    "Use una señal finita $N$ muestras se puede representar como un vector $x \\in \\mathbb{C}^n$,\n",
    "$$\n",
    "x=\\left[\\begin{matrix}x[0] \\\\ x[1] \\\\ \\vdots \\\\ x[N-1] \\end{matrix}\\right]\n",
    "$$\n",
    "Usando la convolución circular, un operador linear y homogéneo en el tiempo se puede expresar como:\n",
    "$$\n",
    "y=x \\circledast h = C_h^o x,\n",
    "$$\n",
    "donde $C_h^o$ es una matriz de convolución parametrizada por el vector $h$, la respuesta impulsional del filtro."
   ]
  },
  {
   "cell_type": "code",
   "execution_count": null,
   "id": "e9f4f133-6988-4ee8-b093-59dc46460432",
   "metadata": {},
   "outputs": [],
   "source": []
  }
 ],
 "metadata": {
  "kernelspec": {
   "display_name": "Python 3 (ipykernel)",
   "language": "python",
   "name": "python3"
  },
  "language_info": {
   "codemirror_mode": {
    "name": "ipython",
    "version": 3
   },
   "file_extension": ".py",
   "mimetype": "text/x-python",
   "name": "python",
   "nbconvert_exporter": "python",
   "pygments_lexer": "ipython3",
   "version": "3.9.7"
  }
 },
 "nbformat": 4,
 "nbformat_minor": 5
}
